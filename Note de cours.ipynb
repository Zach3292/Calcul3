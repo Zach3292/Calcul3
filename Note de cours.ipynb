{
 "cells": [
  {
   "cell_type": "markdown",
   "metadata": {},
   "source": [
    "# Cours 2\n",
    "\n",
    "Introduction au tableau avec Numpy"
   ]
  },
  {
   "cell_type": "markdown",
   "metadata": {},
   "source": [
    "Le code si-dessous importe la library numpy avec le \"surnom\" np"
   ]
  },
  {
   "cell_type": "code",
   "execution_count": 1,
   "metadata": {},
   "outputs": [],
   "source": [
    "import numpy as np"
   ]
  },
  {
   "cell_type": "markdown",
   "metadata": {},
   "source": [
    "Le code si-dessous montre qu'un tableau numpy n'est pas une matrice puisqu'on peut ajouter une constante\n",
    "Il y a aussi des exemples de calculs sur les arrays (tableaux)\n",
    "*Important: la multiplication d'array n'est pas une multiplication matricielle*\n",
    "On peut aussi faire des divisions ou des puissances avec des arrays"
   ]
  },
  {
   "cell_type": "code",
   "execution_count": 68,
   "metadata": {},
   "outputs": [
    {
     "name": "stdout",
     "output_type": "stream",
     "text": [
      "Addition [11 12 13 14]\n",
      "Soustraction [4 4 4 4]\n",
      "Multiplication [ 5 12 21 32]\n",
      "Division [5.         3.         2.33333333 2.        ]\n",
      "Exposant [ 1  4  9 16]\n",
      "Exposant entre arrays [    1    64  2187 65536]\n"
     ]
    }
   ],
   "source": [
    "a = np.array([1, 2, 3, 4])\n",
    "b = np.array([5, 6, 7, 8])\n",
    "\n",
    "add = a + 10\n",
    "print(\"Addition\", add)\n",
    "\n",
    "diff = b - a\n",
    "print(\"Soustraction\", diff)\n",
    "\n",
    "mult = a * b\n",
    "print(\"Multiplication\", mult)\n",
    "\n",
    "div = b / a\n",
    "print(\"Division\", div)\n",
    "\n",
    "power = a ** 2\n",
    "print(\"Exposant\", power)\n",
    "\n",
    "powerBetweenArray = a ** b\n",
    "print(\"Exposant entre arrays\", powerBetweenArray)"
   ]
  },
  {
   "cell_type": "markdown",
   "metadata": {},
   "source": [
    "On peut accéder à des éléments particulier d'un array\n",
    "L'indice commence à 0 toujours"
   ]
  },
  {
   "cell_type": "code",
   "execution_count": 69,
   "metadata": {},
   "outputs": [
    {
     "name": "stdout",
     "output_type": "stream",
     "text": [
      "Premier élément 1\n",
      "Deuxième élément 2\n",
      "Troisième élément 3\n",
      "Dernier élément 4\n",
      "Avant dernier élément 3\n"
     ]
    }
   ],
   "source": [
    "print(\"Premier élément\", a[0])\n",
    "print(\"Deuxième élément\", a[1])\n",
    "print(\"Troisième élément\", a[2])\n",
    "print(\"Dernier élément\", a[-1])\n",
    "print(\"Avant dernier élément\", a[-2])"
   ]
  },
  {
   "cell_type": "markdown",
   "metadata": {},
   "source": [
    "Il est possible de savoir la dimension et la forme d'un array\n",
    "Un array peut avoir une infinité de dimension"
   ]
  },
  {
   "cell_type": "code",
   "execution_count": 19,
   "metadata": {},
   "outputs": [],
   "source": [
    "a = np.array([[1, 2, 3, 4], \n",
    "              [5, 6, 7, 8]])"
   ]
  },
  {
   "cell_type": "code",
   "execution_count": 23,
   "metadata": {},
   "outputs": [
    {
     "name": "stdout",
     "output_type": "stream",
     "text": [
      "[[1 2 3 4]\n",
      " [5 6 7 8]]\n",
      "Dimension (2, 4)\n",
      "Nombre de lignes 2\n",
      "Nombre de colonnes 4\n"
     ]
    }
   ],
   "source": [
    "print(a)\n",
    "print(\"Dimension\", a.shape)\n",
    "print(\"Nombre de lignes\", a.shape[0])\n",
    "print(\"Nombre de colonnes\", a.shape[1])"
   ]
  },
  {
   "cell_type": "markdown",
   "metadata": {},
   "source": [
    "On peut accéder à des éléments comme avec une array 1d"
   ]
  },
  {
   "cell_type": "code",
   "execution_count": 24,
   "metadata": {},
   "outputs": [
    {
     "name": "stdout",
     "output_type": "stream",
     "text": [
      "Première ligne, deuxième colonne 2\n",
      "Deuxième ligne, troisième colonne 7\n"
     ]
    }
   ],
   "source": [
    "print(\"Première ligne, deuxième colonne\", a[0, 1])\n",
    "print(\"Deuxième ligne, troisième colonne\", a[1, 2])"
   ]
  },
  {
   "cell_type": "markdown",
   "metadata": {},
   "source": [
    "Il est possible d'échelonner une matrice avec python en sélectionnant tous les éléments d'une ligne en particulier *(la même chose peut être fait avec les colonnes)*\n",
    "*sans loop c'est long pour rien*"
   ]
  },
  {
   "cell_type": "code",
   "execution_count": 36,
   "metadata": {},
   "outputs": [
    {
     "name": "stdout",
     "output_type": "stream",
     "text": [
      "Avant échelonnage\n",
      " [[2. 1. 2.]\n",
      " [3. 4. 1.]\n",
      " [3. 3. 3.]]\n",
      "Après échelonnage\n",
      " [[ 1.   0.5  1. ]\n",
      " [ 0.   1.  -0.8]\n",
      " [ 0.   0.   1. ]]\n"
     ]
    }
   ],
   "source": [
    "mat = np.array([[2, 1, 2],[3, 4, 1],[3, 3, 3]]).astype(float)\n",
    "print(\"Avant échelonnage\\n\", mat)\n",
    "\n",
    "mat[0,:] = mat[0,:] / mat[0,0]\n",
    "\n",
    "mat[1,:] = mat[1,:] - mat[1,0] * mat[0,:]\n",
    "mat[2,:] = mat[2,:] - mat[2,0] * mat[0,:]\n",
    "\n",
    "mat[1,:] = mat[1,:] / mat[1,1]\n",
    "\n",
    "mat[2,:] = mat[2,:] - mat[2,1] * mat[1,:]\n",
    "\n",
    "mat[2,:] = mat[2,:] / mat[2,2]\n",
    "\n",
    "print(\"Après échelonnage\\n\", mat)"
   ]
  },
  {
   "cell_type": "markdown",
   "metadata": {},
   "source": [
    "Il est possible de créer une array rempli de 0 ou de 1 automatiquement\n",
    "*On peut aussi faire n'importe quelle valeur*\n",
    "Il y a différente possibilité de création d'array"
   ]
  },
  {
   "cell_type": "code",
   "execution_count": 48,
   "metadata": {},
   "outputs": [
    {
     "name": "stdout",
     "output_type": "stream",
     "text": [
      "Matrice de zéros\n",
      " [[0. 0. 0.]\n",
      " [0. 0. 0.]\n",
      " [0. 0. 0.]]\n",
      "Matrice de uns\n",
      " [[1. 1. 1.]\n",
      " [1. 1. 1.]\n",
      " [1. 1. 1.]]\n",
      "Matrice de dix\n",
      " [[10 10 10]\n",
      " [10 10 10]\n",
      " [10 10 10]]\n",
      "Matrice de 0 à 10 par pas de 2\n",
      " [0 2 4 6 8]\n",
      "Matrice de 0 à 10 avec 5 valeurs\n",
      " [ 0.   2.5  5.   7.5 10. ]\n",
      "Matrice aléatoire entre 0 et 1\n",
      " [[0.3160573  0.63722412 0.80948516]\n",
      " [0.41330353 0.81000961 0.40993087]\n",
      " [0.21653948 0.838972   0.07724055]]\n",
      "Matrice aléatoire entre -50 et 50\n",
      " [[-18.39427009  13.72241153  30.94851645]\n",
      " [ -8.66964689  31.00096122  -9.00691305]\n",
      " [-28.34605243  33.89720048 -42.27594543]]\n"
     ]
    }
   ],
   "source": [
    "zero = np.zeros((3, 3))\n",
    "print(\"Matrice de zéros\\n\", zero)\n",
    "one = np.ones((3, 3))\n",
    "print(\"Matrice de uns\\n\", one)\n",
    "ten = np.full((3, 3), 10)\n",
    "print(\"Matrice de dix\\n\", ten)\n",
    "arrange = np.arange(0, 10, 2)\n",
    "print(\"Matrice de 0 à 10 par pas de 2\\n\", arrange)\n",
    "linspace = np.linspace(0, 10, 5)\n",
    "print(\"Matrice de 0 à 10 avec 5 valeurs\\n\", linspace)\n",
    "random = np.random.random((3, 3))\n",
    "print(\"Matrice aléatoire entre 0 et 1\\n\", random)\n",
    "print(\"Matrice aléatoire entre -50 et 50\\n\", random * 100 - 50)"
   ]
  },
  {
   "cell_type": "markdown",
   "metadata": {},
   "source": [
    "Il est possible de faire des graphiques avec la library matplolib"
   ]
  },
  {
   "cell_type": "code",
   "execution_count": 2,
   "metadata": {},
   "outputs": [],
   "source": [
    "import matplotlib.pyplot as plt\n",
    "import numpy as np\n",
    "import math"
   ]
  },
  {
   "cell_type": "markdown",
   "metadata": {},
   "source": [
    "L'ordinateur représente des données discrètes seulement\n",
    "Il est possible de créer un fonction et de la représenter avec une certaine précision"
   ]
  },
  {
   "cell_type": "code",
   "execution_count": 64,
   "metadata": {},
   "outputs": [
    {
     "data": {
      "image/png": "[encoded data removed]",
      "text/plain": [
       "<Figure size 640x480 with 1 Axes>"
      ]
     },
     "metadata": {},
     "output_type": "display_data"
    }
   ],
   "source": [
    "x = np.linspace(-2 * math.pi , 2 * math.pi, 100)\n",
    "y = np.cos(x)\n",
    "\n",
    "plt.plot(x, y)\n",
    "plt.rcdefaults\n",
    "plt.xlabel('x')\n",
    "plt.ylabel('cos(x)')\n",
    "plt.title('Cosinus')\n",
    "plt.show()"
   ]
  },
  {
   "cell_type": "markdown",
   "metadata": {},
   "source": [
    "il est possible de sauvegarder un graphique dans le même répertoire que le script python"
   ]
  },
  {
   "cell_type": "code",
   "execution_count": 65,
   "metadata": {},
   "outputs": [],
   "source": [
    "#plt.savefig('cosinus.png')"
   ]
  },
  {
   "cell_type": "markdown",
   "metadata": {},
   "source": [
    "# Cours 3\n",
    "Boucles et conditions"
   ]
  },
  {
   "cell_type": "markdown",
   "metadata": {},
   "source": [
    "**Boucle**\n",
    "Dans une boucle for, le range() fait rouler la boucle le nombre de fois inscrit en paranthèse et l'indice commence à zéro et fini au nombre d'itération -1\n",
    "\n",
    "On peut aussi lui indiqué un interval"
   ]
  },
  {
   "cell_type": "code",
   "execution_count": 25,
   "metadata": {},
   "outputs": [
    {
     "name": "stdout",
     "output_type": "stream",
     "text": [
      "L'élément 0 est égal à: 0.03044713672859145\n",
      "L'élément 1 est égal à: 0.5863520101975568\n",
      "L'élément 2 est égal à: 0.26587621139932616\n",
      "L'élément 3 est égal à: 0.7713697451664685\n",
      "L'élément 4 est égal à: 0.04472597297355263\n",
      "\n",
      "L'élément 1 est égal à: 0.5863520101975568\n",
      "L'élément 2 est égal à: 0.26587621139932616\n",
      "L'élément 3 est égal à: 0.7713697451664685\n"
     ]
    }
   ],
   "source": [
    "a = np.random.random(5)\n",
    "\n",
    "for i in range(a.shape[0]):\n",
    "    print(\"L'élément\", i, \"est égal à:\", a[i])\n",
    "print(\"\")\n",
    "for i in range(1, a.shape[0] -1):\n",
    "    print(\"L'élément\", i, \"est égal à:\", a[i])"
   ]
  },
  {
   "cell_type": "markdown",
   "metadata": {},
   "source": [
    "On peut énumérer les éléments d'un array"
   ]
  },
  {
   "cell_type": "code",
   "execution_count": 26,
   "metadata": {},
   "outputs": [
    {
     "name": "stdout",
     "output_type": "stream",
     "text": [
      "L'élément 0 est égal à: 0.9818626412431939\n",
      "L'élément 1 est égal à: 0.454826842578709\n",
      "L'élément 2 est égal à: 0.31118361550558904\n"
     ]
    }
   ],
   "source": [
    "A = np.random.random(3)\n",
    "\n",
    "for i, a in enumerate(A):\n",
    "    print(\"L'élément\", i, \"est égal à:\", a)"
   ]
  },
  {
   "cell_type": "markdown",
   "metadata": {},
   "source": [
    "On peut imbriquer des boucles"
   ]
  },
  {
   "cell_type": "code",
   "execution_count": 28,
   "metadata": {},
   "outputs": [
    {
     "name": "stdout",
     "output_type": "stream",
     "text": [
      "L'élément 0 0 est égal à: 0.1598293075783883\n",
      "L'élément 0 1 est égal à: 0.022167037203243645\n",
      "L'élément 0 2 est égal à: 0.2172339228182406\n",
      "L'élément 1 0 est égal à: 0.1545609526605457\n",
      "L'élément 1 1 est égal à: 0.6501989737375782\n",
      "L'élément 1 2 est égal à: 0.10228175140422358\n",
      "L'élément 2 0 est égal à: 0.46118393698976723\n",
      "L'élément 2 1 est égal à: 0.6255895379411186\n",
      "L'élément 2 2 est égal à: 0.3328213307680341\n"
     ]
    }
   ],
   "source": [
    "A = np.random.random((3, 3))\n",
    "\n",
    "for line in range(A.shape[0]):\n",
    "    for col in range(A.shape[1]):\n",
    "        print(\"L'élément\", line, col, \"est égal à:\", A[line, col])"
   ]
  },
  {
   "cell_type": "code",
   "execution_count": 32,
   "metadata": {},
   "outputs": [
    {
     "name": "stdout",
     "output_type": "stream",
     "text": [
      "[ 0  3  6  9 12 15 18 21 24 27 30 33 36 39 42 45 48 51 54  0]\n"
     ]
    }
   ],
   "source": [
    "a = np.arange(20)\n",
    "\n",
    "b = np.zeros_like(a)\n",
    "\n",
    "for i in range(1, a.shape[0] - 1):\n",
    "    b[i] = a[(i-1)] + a[i] + a[(i+1)]\n",
    "print(b)"
   ]
  },
  {
   "cell_type": "markdown",
   "metadata": {},
   "source": [
    "**Conditions**\n",
    "Il faut utiliser les blocs *if, else, et elif*\n",
    "*Le np.where(condition, vrai, faux) peut être utilisé comme shortcut pour des conditions simples*"
   ]
  },
  {
   "cell_type": "code",
   "execution_count": 70,
   "metadata": {},
   "outputs": [
    {
     "name": "stdout",
     "output_type": "stream",
     "text": [
      "[0.87339999 0.24116274 0.98282112 0.81669739 0.04446825 0.62129335\n",
      " 0.1559856  0.06841107 0.95553035 0.12502565]\n",
      "[2. 0. 2. 2. 0. 1. 0. 0. 2. 0.]\n",
      "[1 0 1 1 0 1 0 0 1 0]\n"
     ]
    }
   ],
   "source": [
    "a = np.random.random(10)\n",
    "print(a)\n",
    "b = np.zeros_like(a)\n",
    "\n",
    "for i in range(a.shape[0]):\n",
    "    if a[i] > 0.75:\n",
    "        b[i] = 2\n",
    "    elif a[i] > 0.5:\n",
    "        b[i] = 1\n",
    "    else:\n",
    "        b[i] = 0\n",
    "print(b)\n",
    "#Cheeky shortcut\n",
    "print(np.where(a > 0.5, 1, 0))"
   ]
  },
  {
   "cell_type": "code",
   "execution_count": 107,
   "metadata": {},
   "outputs": [
    {
     "name": "stdout",
     "output_type": "stream",
     "text": [
      "[0.69073797 0.66622018 0.74111385 0.29880974 0.95323699 0.45749508\n",
      " 0.670586   0.80422707 0.58741376 0.4727292  0.71846897 0.59811747\n",
      " 0.91013118 0.00204781 0.36040526 0.38696291 0.47901077 0.28416137\n",
      " 0.28816433 0.78175808]\n",
      "[0.00204781 0.28416137 0.28816433 0.29880974 0.36040526 0.38696291\n",
      " 0.45749508 0.4727292  0.47901077 0.58741376 0.59811747 0.66622018\n",
      " 0.670586   0.69073797 0.71846897 0.74111385 0.78175808 0.80422707\n",
      " 0.91013118 0.95323699]\n"
     ]
    }
   ],
   "source": [
    "import numpy as np\n",
    "randomArray = np.random.random(20)   #On crée un tableau de 20 nombres aléatoires\n",
    "print(randomArray)\n",
    "\n",
    "resultArray = np.zeros_like(randomArray)   #On crée un tableau de 20 zéros\n",
    "\n",
    "for i in range(resultArray.shape[0]):\n",
    "    \n",
    "    resultArray[i] = np.min(randomArray)          #On ajoute le minimum dans le résultat\n",
    "\n",
    "    randomArray = np.delete(randomArray, np.argmin(randomArray))\n",
    "\n",
    "print(resultArray)\n",
    "\n",
    "\n"
   ]
  }
 ],
 "metadata": {
  "kernelspec": {
   "display_name": "base",
   "language": "python",
   "name": "python3"
  },
  "language_info": {
   "codemirror_mode": {
    "name": "ipython",
    "version": 3
   },
   "file_extension": ".py",
   "mimetype": "text/x-python",
   "name": "python",
   "nbconvert_exporter": "python",
   "pygments_lexer": "ipython3",
   "version": "3.11.5"
  }
 },
 "nbformat": 4,
 "nbformat_minor": 2
}
