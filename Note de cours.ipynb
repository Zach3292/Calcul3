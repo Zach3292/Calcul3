{
 "cells": [
  {
   "cell_type": "markdown",
   "metadata": {},
   "source": [
    "**Cours 2**\n",
    "\n",
    "Introduction au tableau avec Numpy"
   ]
  },
  {
   "cell_type": "markdown",
   "metadata": {},
   "source": [
    "Le code si-dessous importe la library numpy avec le \"surnom\" np"
   ]
  },
  {
   "cell_type": "code",
   "execution_count": 4,
   "metadata": {},
   "outputs": [],
   "source": [
    "import numpy as np"
   ]
  },
  {
   "cell_type": "markdown",
   "metadata": {},
   "source": [
    "Le code si-dessous montre qu'un tableau numpy n'est pas une matrice puisqu'on peut ajouter une constante\n",
    "Il y a aussi des exemples de calculs sur les arrays (tableaux)\n",
    "*Important: la multiplication d'array n'est pas une multiplication matricielle*\n",
    "On peut aussi faire des divisions ou des puissances avec des arrays"
   ]
  },
  {
   "cell_type": "code",
   "execution_count": 11,
   "metadata": {},
   "outputs": [
    {
     "name": "stdout",
     "output_type": "stream",
     "text": [
      "Addition [11 12 13 14]\n",
      "Soustraction [4 4 4 4]\n",
      "Multiplication [ 5 12 21 32]\n",
      "Division [5.         3.         2.33333333 2.        ]\n",
      "Exposant [ 1  4  9 16]\n",
      "Exposant entre arrays [    1    64  2187 65536]\n"
     ]
    }
   ],
   "source": [
    "a = np.array([1, 2, 3, 4])\n",
    "b = np.array([5, 6, 7, 8])\n",
    "\n",
    "add = a + 10\n",
    "print(\"Addition\", add)\n",
    "\n",
    "diff = b - a\n",
    "print(\"Soustraction\", diff)\n",
    "\n",
    "mult = a * b\n",
    "print(\"Multiplication\", mult)\n",
    "\n",
    "div = b / a\n",
    "print(\"Division\", div)\n",
    "\n",
    "power = a ** 2\n",
    "print(\"Exposant\", power)\n",
    "\n",
    "powerBetweenArray = a ** b\n",
    "print(\"Exposant entre arrays\", powerBetweenArray)"
   ]
  },
  {
   "cell_type": "markdown",
   "metadata": {},
   "source": [
    "On peut accéder à des éléments particulier d'un array\n",
    "L'indice commence à 0 toujours"
   ]
  },
  {
   "cell_type": "code",
   "execution_count": 14,
   "metadata": {},
   "outputs": [
    {
     "name": "stdout",
     "output_type": "stream",
     "text": [
      "Premier élément 1\n",
      "Deuxième élément 2\n",
      "Troisième élément 3\n",
      "Dernier élément 4\n"
     ]
    }
   ],
   "source": [
    "print(\"Premier élément\", a[0])\n",
    "print(\"Deuxième élément\", a[1])\n",
    "print(\"Troisième élément\", a[2])\n",
    "print(\"Dernier élément\", a[-1])\n",
    "print(\"Avant dernier élément\", a[-2])"
   ]
  }
 ],
 "metadata": {
  "kernelspec": {
   "display_name": "base",
   "language": "python",
   "name": "python3"
  },
  "language_info": {
   "codemirror_mode": {
    "name": "ipython",
    "version": 3
   },
   "file_extension": ".py",
   "mimetype": "text/x-python",
   "name": "python",
   "nbconvert_exporter": "python",
   "pygments_lexer": "ipython3",
   "version": "3.11.5"
  }
 },
 "nbformat": 4,
 "nbformat_minor": 2
}
